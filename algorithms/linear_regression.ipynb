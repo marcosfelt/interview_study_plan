{
  "nbformat": 4,
  "nbformat_minor": 0,
  "metadata": {
    "colab": {
      "provenance": [],
      "authorship_tag": "ABX9TyMKggZB08+9aF+s3XKtJmml",
      "include_colab_link": true
    },
    "kernelspec": {
      "name": "python3",
      "display_name": "Python 3"
    },
    "language_info": {
      "name": "python"
    }
  },
  "cells": [
    {
      "cell_type": "markdown",
      "metadata": {
        "id": "view-in-github",
        "colab_type": "text"
      },
      "source": [
        "<a href=\"https://colab.research.google.com/github/marcosfelt/interview_study_plan/blob/main/algorithms/linear_regression.ipynb\" target=\"_parent\"><img src=\"https://colab.research.google.com/assets/colab-badge.svg\" alt=\"Open In Colab\"/></a>"
      ]
    },
    {
      "cell_type": "markdown",
      "source": [
        "# Linear and Logistic Regression\n",
        "\n",
        "Implementing linear regression and logistic regression."
      ],
      "metadata": {
        "id": "ubEkXXkCAYao"
      }
    },
    {
      "cell_type": "code",
      "execution_count": 51,
      "metadata": {
        "id": "MSAobdFIAU5P"
      },
      "outputs": [],
      "source": [
        "import numpy as np\n",
        "import seaborn as sns\n",
        "import matplotlib.pyplot as plt\n",
        "from sklearn.linear_model import LinearRegression"
      ]
    },
    {
      "cell_type": "markdown",
      "source": [
        "## Ordinary least squares"
      ],
      "metadata": {
        "id": "CLVbUyWQBxIp"
      }
    },
    {
      "cell_type": "code",
      "source": [
        "# Parameters\n",
        "seed = 100\n",
        "n = 100\n",
        "test_size = 0.2\n",
        "\n",
        "# Generate some data\n",
        "d = 2\n",
        "rng = np.random.default_rng(seed)\n",
        "X = rng.random(size=(n, d))\n",
        "y = 3*X[:, 0] - 0.1*X[:, 1] + 4 +  0.1 * rng.normal(size=(n))\n",
        "cutoff =  int(test_size * n)\n",
        "idx = np.arange(n)\n",
        "train_idx, test_idx = idx[: cutoff], idx[cutoff:\n",
        "                                         ]"
      ],
      "metadata": {
        "id": "hZFo1oRoAjAP"
      },
      "execution_count": 82,
      "outputs": []
    },
    {
      "cell_type": "markdown",
      "source": [
        "## Linear algebra method\n",
        "\n",
        "The model:\n",
        "\n",
        "$y_i = \\sum_{j=1}^m\\beta_jx_j^i$\n",
        "\n",
        "where $\\beta_i \\forall i=1\\dots m$ are the coefficients and $m$ is th number of features. $y$ is the output. Let $\\overrightarrow\\beta$ be the vector of all coefficients.\n",
        "\n",
        "We'd like to find the coefficients that minimize the following least squares objective:\n",
        "\n",
        "$\\overrightarrow\\beta = \\min \\sum_{i=1}^n (y- \\hat y)^2$\n",
        "\n",
        "If you expand and take the derivative, you can arrive at:\n",
        "\n",
        "$\\overrightarrow\\beta = (X^T X)^{-1}X^Ty$"
      ],
      "metadata": {
        "id": "WYlgLL7cB1LP"
      }
    },
    {
      "cell_type": "code",
      "source": [
        "# Normalize variables\n",
        "X_mu_tr, X_std_tr = X[train_idx].mean(axis=0),X[train_idx].std(axis=0)\n",
        "y_mu_tr, y_std_tr = y[train_idx].mean(), y[train_idx].std()\n",
        "X_s_tr = (X[train_idx]-X_mu_tr)/X_std_tr\n",
        "y_s_tr = (y[train_idx]-y_mu_tr)/y_std_tr\n",
        "X_s_ts = (X[test_idx]-X_mu_tr)/X_std_tr\n",
        "y_s_ts = (y[test_idx]-y_mu_tr)/y_std_tr\n",
        "\n",
        "# Least squares\n",
        "beta = np.linalg.inv(X_s_tr.T@X_s_tr)@X_s_tr.T@y_s_tr\n",
        "print(\"Coefficients:\", beta)"
      ],
      "metadata": {
        "colab": {
          "base_uri": "https://localhost:8080/"
        },
        "id": "aRt1aJb_BvQm",
        "outputId": "792905e4-2afd-486b-d7cc-5132e5db1920"
      },
      "execution_count": 86,
      "outputs": [
        {
          "output_type": "stream",
          "name": "stdout",
          "text": [
            "Coefficients: [ 0.99839248 -0.02647705]\n"
          ]
        }
      ]
    },
    {
      "cell_type": "code",
      "source": [
        "# Test predictions\n",
        "y_hat = (X_s_ts@beta * y_std_tr) + y_mu_tr\n",
        "ax = sns.scatterplot(x=y[test_idx], y=y_hat)\n",
        "min_y = min(y.min(), y_hat.min())\n",
        "max_y = max(y.max(), y_hat.max())\n",
        "ax.plot([min_y, max_y], [min_y, max_y], 'k--')\n",
        "ax.set_xlabel(\"True\")\n",
        "ax.set_ylabel(\"Predicted\")\n",
        "ax.set_title(\"Test Predictions\")"
      ],
      "metadata": {
        "colab": {
          "base_uri": "https://localhost:8080/",
          "height": 489
        },
        "id": "g3CjvoMvEHf9",
        "outputId": "8ce9fdb9-94d7-446d-d0fc-5e4f738c5aa2"
      },
      "execution_count": 89,
      "outputs": [
        {
          "output_type": "execute_result",
          "data": {
            "text/plain": [
              "Text(0.5, 1.0, 'Test Predictions')"
            ]
          },
          "metadata": {},
          "execution_count": 89
        },
        {
          "output_type": "display_data",
          "data": {
            "text/plain": [
              "<Figure size 640x480 with 1 Axes>"
            ],
            "image/png": "[encoded data removed]"
          },
          "metadata": {}
        }
      ]
    },
    {
      "cell_type": "code",
      "source": [
        "# Coefficient of determination (how much of variance in output explained by input)\n",
        "y_ts = y[test_idx]\n",
        "ss_reg = ((y_ts - y_hat)**2).sum()\n",
        "ss_total = ((y_ts - y_ts.mean())**2).sum()\n",
        "r2 = 1 - ss_reg/ss_total\n",
        "print(f\"R2={r2:.02f}\")"
      ],
      "metadata": {
        "colab": {
          "base_uri": "https://localhost:8080/"
        },
        "id": "Sqv1MGCfLGD5",
        "outputId": "18f213d9-4484-4b1a-cb9d-f16d47a075c3"
      },
      "execution_count": 97,
      "outputs": [
        {
          "output_type": "stream",
          "name": "stdout",
          "text": [
            "R2=0.99\n"
          ]
        }
      ]
    },
    {
      "cell_type": "markdown",
      "source": [
        "##"
      ],
      "metadata": {
        "id": "dsr9QizGKup-"
      }
    }
  ]
}