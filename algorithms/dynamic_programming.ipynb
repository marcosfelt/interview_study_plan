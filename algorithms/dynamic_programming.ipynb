{
  "nbformat": 4,
  "nbformat_minor": 0,
  "metadata": {
    "colab": {
      "provenance": [],
      "authorship_tag": "ABX9TyNGHLyibQXq0dH9JMeP5Hxd",
      "include_colab_link": true
    },
    "kernelspec": {
      "name": "python3",
      "display_name": "Python 3"
    },
    "language_info": {
      "name": "python"
    }
  },
  "cells": [
    {
      "cell_type": "markdown",
      "metadata": {
        "id": "view-in-github",
        "colab_type": "text"
      },
      "source": [
        "<a href=\"https://colab.research.google.com/github/marcosfelt/interview_study_plan/blob/main/algorithms/dynamic_programming.ipynb\" target=\"_parent\"><img src=\"https://colab.research.google.com/assets/colab-badge.svg\" alt=\"Open In Colab\"/></a>"
      ]
    },
    {
      "cell_type": "markdown",
      "source": [
        "# Dynamic Programming\n",
        "\n",
        "From this youtube course:  https://www.youtube.com/watch?v=oBt53YbR9Kk\n",
        "\n",
        "## Intro - Fibonacci\n",
        "\n",
        "The fibonacci series is a positive integer series where each element past the second is the sum of the previous two:\n",
        "\n",
        "1, 1, 2, 3, 5, 8, 13, ...\n",
        "\n",
        "Can we write an algorithm to caclulate the series for any $n$?"
      ],
      "metadata": {
        "id": "yZtxuo5DqZWn"
      }
    },
    {
      "cell_type": "code",
      "execution_count": 3,
      "metadata": {
        "id": "N5qzQFJrqUun"
      },
      "outputs": [],
      "source": [
        "# Slow implementation\n",
        "def fib(n):\n",
        "  if n<=2:\n",
        "    return 1\n",
        "  else:\n",
        "    return fib(n-1) + fib(n-2)"
      ]
    },
    {
      "cell_type": "markdown",
      "source": [
        "For small $n$ the above implementation is fine:"
      ],
      "metadata": {
        "id": "9Cf7ovwXq8tD"
      }
    },
    {
      "cell_type": "code",
      "source": [
        "print(\"7:\", fib(7))\n",
        "print(\"8:\", fib(8))\n",
        "print(\"13:\", fib(13))"
      ],
      "metadata": {
        "colab": {
          "base_uri": "https://localhost:8080/"
        },
        "id": "3qtbdlcWqzpQ",
        "outputId": "565a63f9-0e56-4be0-89ab-12020e9a4312"
      },
      "execution_count": 4,
      "outputs": [
        {
          "output_type": "stream",
          "name": "stdout",
          "text": [
            "7: 13\n",
            "8: 21\n",
            "13: 233\n"
          ]
        }
      ]
    },
    {
      "cell_type": "markdown",
      "source": [
        "However, for slightly larger n, it will stall (try running below):"
      ],
      "metadata": {
        "id": "33E5x1nErFXM"
      }
    },
    {
      "cell_type": "code",
      "source": [
        "print(\"50:\", fib(50))"
      ],
      "metadata": {
        "id": "3bCrXl0brCvo"
      },
      "execution_count": null,
      "outputs": []
    },
    {
      "cell_type": "markdown",
      "source": [
        "We can think of the call stack as below:\n",
        "\n",
        "![](https://github.com/marcosfelt/interview_study_plan/blob/main/static/fibonacci_tree.png?raw=true)\n",
        "\n",
        "Since each of the subtrees is repeated, we can _memoize_ or store the result of the calculation the first time we do it. Therefore, we transform the algorithm from $O(2^n)$ to $O(n)$."
      ],
      "metadata": {
        "id": "csTZmsQyrRVF"
      }
    },
    {
      "cell_type": "code",
      "source": [
        "# Fast implementation\n",
        "def fib_memo(n, memo=None):\n",
        "  if memo is None:\n",
        "    memo = {}\n",
        "  if n<=2:\n",
        "    return 1\n",
        "  elif n in memo:\n",
        "    return memo[n]\n",
        "  else:\n",
        "    r = fib_memo(n-1, memo) + fib_memo(n-2, memo)\n",
        "    memo[n] = r\n",
        "    return r"
      ],
      "metadata": {
        "id": "HPb7WmnkroJG"
      },
      "execution_count": 13,
      "outputs": []
    },
    {
      "cell_type": "code",
      "source": [
        "print(\"50:\", fib_memo(50))"
      ],
      "metadata": {
        "colab": {
          "base_uri": "https://localhost:8080/"
        },
        "id": "J5T0C5fIutzp",
        "outputId": "bfdef688-a393-4632-e5cd-42d72f84d485"
      },
      "execution_count": 14,
      "outputs": [
        {
          "output_type": "stream",
          "name": "stdout",
          "text": [
            "50: 12586269025\n"
          ]
        }
      ]
    },
    {
      "cell_type": "markdown",
      "source": [
        "Yay! We can now calculate the fibonacci series of large numbers in linear time."
      ],
      "metadata": {
        "id": "myYzfbFYu1QI"
      }
    },
    {
      "cell_type": "code",
      "source": [],
      "metadata": {
        "id": "kdI3GnF3u7dH"
      },
      "execution_count": null,
      "outputs": []
    }
  ]
}