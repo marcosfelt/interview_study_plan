{
  "nbformat": 4,
  "nbformat_minor": 0,
  "metadata": {
    "colab": {
      "provenance": [],
      "collapsed_sections": [],
      "authorship_tag": "ABX9TyMXiyRuwf4obCn+zwZOUDK9",
      "include_colab_link": true
    },
    "kernelspec": {
      "name": "python3",
      "display_name": "Python 3"
    },
    "language_info": {
      "name": "python"
    }
  },
  "cells": [
    {
      "cell_type": "markdown",
      "metadata": {
        "id": "view-in-github",
        "colab_type": "text"
      },
      "source": [
        "<a href=\"https://colab.research.google.com/github/marcosfelt/interview_study_plan/blob/main/k_means.ipynb\" target=\"_parent\"><img src=\"https://colab.research.google.com/assets/colab-badge.svg\" alt=\"Open In Colab\"/></a>"
      ]
    },
    {
      "cell_type": "markdown",
      "source": [
        "# Goal: Implement K-means\n",
        "\n",
        "Inspired by https://www.youtube.com/watch?v=xKZHH-UOsUM"
      ],
      "metadata": {
        "id": "9rDu02aZ-MF0"
      }
    },
    {
      "cell_type": "code",
      "execution_count": 1,
      "metadata": {
        "id": "VS53R2rK9CDz"
      },
      "outputs": [],
      "source": [
        "import numpy as np\n",
        "import matplotlib.pyplot as plt"
      ]
    },
    {
      "cell_type": "markdown",
      "source": [
        "## Problem Setup"
      ],
      "metadata": {
        "id": "vdNmKa8E_eqp"
      }
    },
    {
      "cell_type": "code",
      "source": [
        "a = np.random.multivariate_normal([-2,2], [[1.0,0], [0,1.]], 50).T\n",
        "b = np.random.multivariate_normal([2,-2], [[0.5,0], [0,0.5]], 50).T\n",
        "c = np.random.multivariate_normal([2,3], [[1.0,0], [0,0.5]], 50).T\n",
        "X = np.hstack((a,b,c))\n",
        "plt.scatter(X[0], X[1])"
      ],
      "metadata": {
        "colab": {
          "base_uri": "https://localhost:8080/",
          "height": 287
        },
        "id": "Nq-uChQh_efd",
        "outputId": "79be353e-cc12-49f7-c41c-a435b9284e58"
      },
      "execution_count": 7,
      "outputs": [
        {
          "output_type": "execute_result",
          "data": {
            "text/plain": [
              "<matplotlib.collections.PathCollection at 0x7fc29834e9d0>"
            ]
          },
          "metadata": {},
          "execution_count": 7
        },
        {
          "output_type": "display_data",
          "data": {
            "text/plain": [
              "<Figure size 432x288 with 1 Axes>"
            ],
            "image/png": "[encoded data removed]"
          },
          "metadata": {
            "needs_background": "light"
          }
        }
      ]
    },
    {
      "cell_type": "markdown",
      "source": [
        "## Training Objective\n",
        "\n",
        "The objective is to \n",
        "- minimize the distance between every point and its closest cluster\n",
        "- maximize the distance between clusters\n",
        "\n",
        "Formally:\n",
        "\n",
        "i: point index\n",
        "j: cluster index\n",
        "k - number of clusters\n",
        "\n",
        "$\\min cost(X, \\mu_1, \\dots, \\mu_k, k) = \\min_{C_i} \\sum_i \\sum_{x_i \\in c_i} \\vert\\vert x - \\mu_{c_i} \\vert \\vert^2  $\n",
        "\n"
      ],
      "metadata": {
        "id": "8Qdcjc31AMN-"
      }
    },
    {
      "cell_type": "markdown",
      "source": [
        "## K-means implementaiton"
      ],
      "metadata": {
        "id": "K8UBJEOQBM5R"
      }
    },
    {
      "cell_type": "code",
      "source": [
        "def distance(u, v):\n",
        "  \"\"\"Distance metric - we'll choose L2\"\"\"\n",
        "  return np.linalg.norm(u-v)\n",
        "\n",
        "def calculate_closest_cluster(point, cluster_means):\n",
        "  closest_cluster = 0\n",
        "  min_distance = np.float(\"inf\")\n",
        "  for j, cluster_mean in enumerate(cluster_means):\n",
        "    d = distance(point, cluster_mean)\n",
        "    if d < min_distance:\n",
        "      min_distance = d\n",
        "      closest_cluster = j\n",
        "  return closest_cluster\n",
        "\n",
        "def calculate_cluster_mean(points):\n",
        "  return np.mean(points, axis=0)\n",
        "\n",
        "def k_means(points, k, max_iterations: int = 100):\n",
        "  # Notation\n",
        "  # i for point index\n",
        "  # j for cluster index\n",
        "\n",
        "  # Data structures\n",
        "  n = len(points)\n",
        "  point_to_cluster_ind = [0] * n\n",
        "  cluster_means = [0] * k\n",
        "\n",
        "  # Random initialization of the clusters\n",
        "  means_inds = np.random.randint(low=0, high=n, size=k)\n",
        "  cluster_means = points[means_inds]\n",
        "\n",
        "  # Iterate to refine the clusters\n",
        "  while max_iterations > 0:\n",
        "      max_iterations -= 1\n",
        "\n",
        "      # Initialize map from cluster index (j) to point index (i)\n",
        "      cluster_to_point_ind = [[] for _ in range(k)]\n",
        "\n",
        "      # Calculate the closest cluster for each point\n",
        "      for i in range(n):\n",
        "        j = calculate_closest_cluster(points[i], cluster_means)\n",
        "        point_to_cluster_ind[i] = j\n",
        "        cluster_to_point_ind[j].append(i)\n",
        "\n",
        "      # Recalculate the cluster mean\n",
        "      for j in range(k):\n",
        "        cluster_means[j] = calculate_cluster_mean(\n",
        "            points[cluster_to_point_ind[j]]\n",
        "        )\n",
        "\n",
        "  return point_to_cluster_ind"
      ],
      "metadata": {
        "id": "3BYrRvlIBV7G"
      },
      "execution_count": 26,
      "outputs": []
    },
    {
      "cell_type": "code",
      "source": [
        "points = X.T\n",
        "clusters = k_means(points, 3)\n",
        "plt.scatter(X[0], X[1], c=clusters)"
      ],
      "metadata": {
        "colab": {
          "base_uri": "https://localhost:8080/",
          "height": 360
        },
        "id": "PoY6RzORBYaJ",
        "outputId": "60e3c3bb-a9ce-4be0-ddb3-0ce9e0c7544a"
      },
      "execution_count": 32,
      "outputs": [
        {
          "output_type": "stream",
          "name": "stderr",
          "text": [
            "/usr/local/lib/python3.7/dist-packages/ipykernel_launcher.py:7: DeprecationWarning: `np.float` is a deprecated alias for the builtin `float`. To silence this warning, use `float` by itself. Doing this will not modify any behavior and is safe. If you specifically wanted the numpy scalar type, use `np.float64` here.\n",
            "Deprecated in NumPy 1.20; for more details and guidance: https://numpy.org/devdocs/release/1.20.0-notes.html#deprecations\n",
            "  import sys\n"
          ]
        },
        {
          "output_type": "execute_result",
          "data": {
            "text/plain": [
              "<matplotlib.collections.PathCollection at 0x7fc297cb3450>"
            ]
          },
          "metadata": {},
          "execution_count": 32
        },
        {
          "output_type": "display_data",
          "data": {
            "text/plain": [
              "<Figure size 432x288 with 1 Axes>"
            ],
            "image/png": "[encoded data removed]"
          },
          "metadata": {
            "needs_background": "light"
          }
        }
      ]
    },
    {
      "cell_type": "markdown",
      "source": [
        "## Time and Space Complexity\n",
        "\n",
        "- l - iterations\n",
        "- n*k - closest cluster calcuation\n",
        "- n*k - cluster mean\n",
        "\n",
        "Time complexity: $$O(l n k)$$\n",
        "\n",
        "- n - point_cluster_ind\n",
        "- ~n - cluster_point_ind\n",
        "- k - cluster-means\n",
        "\n",
        "Space complexity: \n",
        "$$O(nk)$$"
      ],
      "metadata": {
        "id": "7CDLLH3TGPMT"
      }
    }
  ]
}